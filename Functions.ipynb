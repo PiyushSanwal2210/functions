{
 "cells": [
  {
   "cell_type": "markdown",
   "id": "9bcf57e5",
   "metadata": {},
   "source": [
    "##########THEORY QUESTIONS#########"
   ]
  },
  {
   "cell_type": "markdown",
   "id": "d3507b1b",
   "metadata": {},
   "source": [
    "Question = 1 >>> What is the difference between a function and a method in Python?"
   ]
  },
  {
   "cell_type": "markdown",
   "id": "ad0b3c06",
   "metadata": {},
   "source": [
    "Ans = The key difference between a function and a method in Python lies in their association with objects. A function is a block of code that performs a specific task and is defined independently, while a method is a function that is associated with an object and operates on its data.\n",
    "\n",
    "Feature       >>>>>          Function           >>>>>                 Method\n",
    "\n",
    "Definition      >>>>>       Defined independently      >>>>>       Defined within a class\n",
    "\n",
    "Invocation       >>>>>      Called by its name        >>>>>        Called on an object of a class\n",
    "\n",
    "Association      >>>>>      Not associated with any object  >>>>>  Associated with an object\n",
    "\n",
    "Implicit Argument   >>>>>   No implicit argument       >>>>>       Has an implicit first argument, self, which refers to the object\n",
    "\n",
    "Purpose        >>>>>        Performs a general task     >>>>>      Performs an operation specific to an object"
   ]
  },
  {
   "cell_type": "markdown",
   "id": "a6887a43",
   "metadata": {},
   "source": [
    "Question = 2 >>> Explain the concept of function arguments and parameters in Python?"
   ]
  },
  {
   "cell_type": "markdown",
   "id": "3a1a81fc",
   "metadata": {},
   "source": [
    "Ans = Function parameters are the names listed in the function's definition, acting as placeholders for values that the function will receive. Arguments, on the other hand, are the actual values passed to the function when it is called. Consider the following example:"
   ]
  },
  {
   "cell_type": "code",
   "execution_count": 1,
   "id": "a43c6b2a",
   "metadata": {},
   "outputs": [
    {
     "name": "stdout",
     "output_type": "stream",
     "text": [
      "Hello, Alice!\n",
      "Hello, Bob!\n"
     ]
    }
   ],
   "source": [
    "def greet(name): # name is a parameter\n",
    "    print(f\"Hello, {name}!\")\n",
    "\n",
    "greet(\"Alice\") # \"Alice\" is an argument\n",
    "greet(\"Bob\")   # \"Bob\" is another argument"
   ]
  },
  {
   "cell_type": "markdown",
   "id": "e724ece1",
   "metadata": {},
   "source": [
    "Question = 3 >>> What are the different ways to define and call a function in Python?"
   ]
  },
  {
   "cell_type": "markdown",
   "id": "49942c5a",
   "metadata": {},
   "source": [
    "Ans = In Python, functions can be defined and called in several ways:\n",
    "1. Using the def keyword (Standard Function)\n",
    "This is the most common way to define a function.\n",
    "\n",
    "2. Lambda Functions (Anonymous Functions)\n",
    "These are small, single-expression functions defined using the lambda keyword\n",
    "\n",
    "3. Nested Functions (Functions inside functions)\n",
    "A function can be defined inside another function and can be called within the outer function.\n",
    "\n",
    "4. Recursive Functions\n",
    "A function can call itself, which is known as recursion.\n",
    "\n",
    "5. Methods in Classes\n",
    "When a function is part of a class, it's called a method and is called on an object of that class."
   ]
  },
  {
   "cell_type": "code",
   "execution_count": 2,
   "id": "8ce8b12c",
   "metadata": {},
   "outputs": [
    {
     "name": "stdout",
     "output_type": "stream",
     "text": [
      "Hello, Alice!\n"
     ]
    }
   ],
   "source": [
    "def greet(name):\n",
    "    \"\"\"This function greets the person passed in as a parameter.\"\"\"\n",
    "    print(f\"Hello, {name}!\")\n",
    "\n",
    "greet(\"Alice\")  # Calling the function"
   ]
  },
  {
   "cell_type": "code",
   "execution_count": 3,
   "id": "68f2cc51",
   "metadata": {},
   "outputs": [
    {
     "name": "stdout",
     "output_type": "stream",
     "text": [
      "8\n"
     ]
    }
   ],
   "source": [
    "add = lambda x, y: x + y\n",
    "print(add(5, 3))  # Calling the lambda function"
   ]
  },
  {
   "cell_type": "code",
   "execution_count": 4,
   "id": "b6e04d0a",
   "metadata": {},
   "outputs": [
    {
     "name": "stdout",
     "output_type": "stream",
     "text": [
      "Hello from inner function!\n"
     ]
    }
   ],
   "source": [
    "def outer_function():\n",
    "    def inner_function():\n",
    "        print(\"Hello from inner function!\")\n",
    "    inner_function()  # Calling the inner function\n",
    "outer_function() # Calling the outer function"
   ]
  },
  {
   "cell_type": "code",
   "execution_count": 5,
   "id": "e87f5bdf",
   "metadata": {},
   "outputs": [
    {
     "name": "stdout",
     "output_type": "stream",
     "text": [
      "120\n"
     ]
    }
   ],
   "source": [
    "def factorial(n):\n",
    "    if n == 0:\n",
    "        return 1\n",
    "    else:\n",
    "        return n * factorial(n - 1)\n",
    "\n",
    "print(factorial(5))  # Calling the recursive function"
   ]
  },
  {
   "cell_type": "code",
   "execution_count": 6,
   "id": "2d02f5d1",
   "metadata": {},
   "outputs": [
    {
     "name": "stdout",
     "output_type": "stream",
     "text": [
      "Woof!\n"
     ]
    }
   ],
   "source": [
    "class Dog:\n",
    "    def __init__(self, name):\n",
    "        self.name = name\n",
    "    \n",
    "    def bark(self):\n",
    "        print(\"Woof!\")\n",
    "\n",
    "my_dog = Dog(\"Buddy\")\n",
    "my_dog.bark()  # Calling the method"
   ]
  },
  {
   "cell_type": "markdown",
   "id": "02c1fb54",
   "metadata": {},
   "source": [
    "Question = 4 >>> What is the purpose of the `return` statement in a Python function?"
   ]
  },
  {
   "cell_type": "markdown",
   "id": "37b34891",
   "metadata": {},
   "source": [
    "The return statement in a Python function serves to terminate the function's execution and optionally send a value back to the caller. When a return statement is encountered, the function immediately stops running, and the specified value, if any, is passed back to the part of the code that called the function. If no value is specified, or if there is no return statement, the function returns None by default."
   ]
  },
  {
   "cell_type": "code",
   "execution_count": 7,
   "id": "6ba0d7cb",
   "metadata": {},
   "outputs": [
    {
     "name": "stdout",
     "output_type": "stream",
     "text": [
      "8\n",
      "Hello, Alice!\n",
      "None\n"
     ]
    }
   ],
   "source": [
    "def add(x, y):\n",
    "    return x + y\n",
    "\n",
    "result = add(5, 3)\n",
    "print(result) # Output: 8\n",
    "\n",
    "def greet(name):\n",
    "    print(\"Hello, \" + name + \"!\")\n",
    "    # No return statement, so it implicitly returns None\n",
    "\n",
    "return_value = greet(\"Alice\")\n",
    "print(return_value) # Output: None"
   ]
  },
  {
   "cell_type": "markdown",
   "id": "eb9f14b7",
   "metadata": {},
   "source": [
    "Question = 5 >>> What are iterators in Python and how do they differ from iterables?"
   ]
  },
  {
   "cell_type": "markdown",
   "id": "ca498c9d",
   "metadata": {},
   "source": [
    "Ans =  Here is a list of the differences between Iterable and Iterator in Python. An Iterable is basically an object that any user can iterate over. An Iterator is also an object that helps a user in iterating over another object (that is iterable). We can generate an iterator when we pass the object to the iter() method."
   ]
  },
  {
   "cell_type": "markdown",
   "id": "654862ce",
   "metadata": {},
   "source": [
    "Question = 6 >>> Explain the concept of generators in Python and how they are defined?"
   ]
  },
  {
   "cell_type": "markdown",
   "id": "e5a1510e",
   "metadata": {},
   "source": [
    "Ans = In Python, generators are a type of iterator that efficiently produce a sequence of values on demand, rather than storing them all in memory at once. They are defined using a function that uses the yield keyword instead of return. This allows the function to pause and resume execution, yielding a value each time it's called, making them ideal for working with large or potentially infinite sequences. \n",
    "Key Concepts:\n",
    "Iterators:\n",
    "Generators are a specific type of iterator, which is an object that can return the next item in a sequence one at a time. \n",
    "Yield:\n",
    "The yield keyword is used to produce a value from the generator. When a generator function is called, it returns a generator object that can be iterated over using next() or a loop. \n",
    "Lazy Evaluation:\n",
    "Generators produce values only when they are requested, making them memory-efficient, especially for large datasets or infinite sequences. \n",
    "Pausing and Resuming:\n",
    "Generators can be paused and resumed at the yield statement, allowing them to produce values incrementally. "
   ]
  },
  {
   "cell_type": "code",
   "execution_count": 8,
   "id": "b779c27b",
   "metadata": {},
   "outputs": [
    {
     "name": "stdout",
     "output_type": "stream",
     "text": [
      "0\n",
      "1\n",
      "2\n",
      "3\n",
      "4\n"
     ]
    }
   ],
   "source": [
    "def my_generator(n):\n",
    "    value = 0\n",
    "    while value < n:\n",
    "        yield value\n",
    "        value += 1\n",
    "\n",
    "# Iterate over the generator\n",
    "for number in my_generator(5):\n",
    "    print(number)"
   ]
  },
  {
   "cell_type": "markdown",
   "id": "5d1a7799",
   "metadata": {},
   "source": [
    "Question = 7 >>>  What are the advantages of using generators over regular functions ?"
   ]
  },
  {
   "cell_type": "markdown",
   "id": "86e17ca7",
   "metadata": {},
   "source": [
    "Ans = Generators offer several advantages over regular functions, primarily concerning memory efficiency and lazy evaluation. Unlike regular functions that return a complete result immediately, generators yield values one at a time, saving memory, especially when dealing with large datasets or infinite sequences. They also allow for lazy evaluation, computing values only when needed, potentially improving performance. \n",
    "Here's a more detailed breakdown:\n",
    "\n",
    "1. Memory Efficiency:\n",
    "\n",
    "2. Lazy Evaluation:\n",
    "\n",
    "3. Infinite Sequences and Data Pipelining:\n",
    "\n",
    "4. Improved Readability and Conciseness:"
   ]
  },
  {
   "cell_type": "markdown",
   "id": "f787e300",
   "metadata": {},
   "source": [
    "Question = 8 >>> What is a lambda function in Python and when is it typically used ?"
   ]
  },
  {
   "cell_type": "markdown",
   "id": "a08e9806",
   "metadata": {},
   "source": [
    "Ans =  In Python, a lambda function is a small, anonymous function that's defined using the lambda keyword. It's typically used for simple, one-time operations or when you need a quick, functional expression for higher-order functions like map, filter, and reduce. \n",
    "Here's a breakdown:\n",
    "Anonymous:\n",
    "Lambda functions don't have a name, making them suitable for temporary or throwaway operations. \n",
    "Single Expression:\n",
    "They can only contain a single expression, which is returned as the result. \n",
    "Used with Higher-Order Functions:\n",
    "They're often used as arguments to functions like map, filter, and reduce to apply simple logic on iterables. "
   ]
  },
  {
   "cell_type": "code",
   "execution_count": 10,
   "id": "0fb69933",
   "metadata": {},
   "outputs": [
    {
     "name": "stdout",
     "output_type": "stream",
     "text": [
      "10\n"
     ]
    }
   ],
   "source": [
    "    # Lambda function to double a number\n",
    "    double = lambda x: x * 2\n",
    "\n",
    "    # Using the lambda function\n",
    "    result = double(5)\n",
    "    print(result) "
   ]
  },
  {
   "cell_type": "markdown",
   "id": "2a65a417",
   "metadata": {},
   "source": [
    "Question = 9 >>> Explain the purpose and usage of the `map()` function in Python ?"
   ]
  },
  {
   "cell_type": "markdown",
   "id": "dcc8dd1f",
   "metadata": {},
   "source": [
    "Ans = The map() function in Python serves to apply a given function to each item of an iterable (like a list or tuple) and returns an iterator that yields the results. This approach avoids explicit loops, promoting cleaner and more readable code. \n",
    "The syntax of the map() function is as follows:\n",
    "Python\n",
    "\n",
    "map(function, iterable, ...)\n",
    "\n",
    "function: The function to apply to each item in the iterable.\n",
    "iterable: The iterable to process.\n",
    "... (optional): Additional iterables, if the function takes multiple arguments. \n",
    "For instance, to square each number in a list:"
   ]
  },
  {
   "cell_type": "code",
   "execution_count": 11,
   "id": "ca1b8992",
   "metadata": {},
   "outputs": [
    {
     "name": "stdout",
     "output_type": "stream",
     "text": [
      "[1, 4, 9, 16]\n"
     ]
    }
   ],
   "source": [
    "numbers = [1, 2, 3, 4]\n",
    "squared_numbers = map(lambda x: x**2, numbers)\n",
    "print(list(squared_numbers))  # Output: [1, 4, 9, 16]"
   ]
  },
  {
   "cell_type": "markdown",
   "id": "8d2b0257",
   "metadata": {},
   "source": [
    "Question = 10 >>> What is the difference between `map()`, `reduce()`, and `filter()` functions in Python?"
   ]
  },
  {
   "cell_type": "markdown",
   "id": "8a4a4397",
   "metadata": {},
   "source": [
    "Ans = map(), filter(), and reduce() are built-in functions in Python that operate on iterables (like lists, tuples, etc.) and are often used in functional programming. They each serve distinct purposes:\n",
    "map(): Applies a given function to each item in an iterable and returns an iterator that yields the results. It transforms each element individually."
   ]
  },
  {
   "cell_type": "code",
   "execution_count": 13,
   "id": "a735e3ae",
   "metadata": {},
   "outputs": [
    {
     "name": "stdout",
     "output_type": "stream",
     "text": [
      "[1, 4, 9, 16, 25]\n"
     ]
    }
   ],
   "source": [
    "    numbers = [1, 2, 3, 4, 5]\n",
    "    squared_numbers = map(lambda x: x**2, numbers)\n",
    "    print(list(squared_numbers))  # Output: [1, 4, 9, 16, 25]"
   ]
  },
  {
   "cell_type": "markdown",
   "id": "830ffaeb",
   "metadata": {},
   "source": [
    "filter(): Creates a new iterator from elements of an iterable for which a function returns true. It selectively keeps elements based on a condition."
   ]
  },
  {
   "cell_type": "code",
   "execution_count": 14,
   "id": "a4b37d06",
   "metadata": {},
   "outputs": [
    {
     "name": "stdout",
     "output_type": "stream",
     "text": [
      "[2, 4, 6]\n"
     ]
    }
   ],
   "source": [
    "    numbers = [1, 2, 3, 4, 5, 6]\n",
    "    even_numbers = filter(lambda x: x % 2 == 0, numbers)\n",
    "    print(list(even_numbers))  # Output: [2, 4, 6]"
   ]
  },
  {
   "cell_type": "markdown",
   "id": "a4574426",
   "metadata": {},
   "source": [
    "reduce(): Applies a rolling computation to sequential pairs of elements in an iterable, ultimately reducing it to a single value. It needs to be imported from the functools module."
   ]
  },
  {
   "cell_type": "code",
   "execution_count": 15,
   "id": "fdb416b6",
   "metadata": {},
   "outputs": [
    {
     "name": "stdout",
     "output_type": "stream",
     "text": [
      "120\n"
     ]
    }
   ],
   "source": [
    "    from functools import reduce\n",
    "    numbers = [1, 2, 3, 4, 5]\n",
    "    product = reduce(lambda x, y: x * y, numbers)\n",
    "    print(product)  # Output: 120 (1*2*3*4*5)"
   ]
  },
  {
   "cell_type": "markdown",
   "id": "e5601b9f",
   "metadata": {},
   "source": [
    "Question = 11 >>> Using pen & Paper write the internal mechanism for sum operation using  reduce function on this given\n",
    "list:[47,11,42,13]"
   ]
  },
  {
   "cell_type": "markdown",
   "id": "23965f47",
   "metadata": {},
   "source": [
    "Ans = The reduce function, when used for summation, iteratively combines elements of a list into a single value using a provided function. For the given list, the reduce function will first add 47 and 11, then add the result (58) to 42, and finally add the result (100) to 13, resulting in a final sum of 113. "
   ]
  },
  {
   "cell_type": "code",
   "execution_count": 17,
   "id": "56aa0754",
   "metadata": {},
   "outputs": [],
   "source": [
    "# Initialize the accumulator with the first element.\n",
    "# accumulator = 47\n",
    "# Iterate through the remaining elements.\n",
    "# 1. accumulator = accumulator + 11 (47 + 11 = 58)\n",
    "# 2. accumulator = accumulator + 42 (58 + 42 = 100)\n",
    "# 3. accumulator = accumulator + 13 (100 + 13 = 113)\n",
    "# Final result: 113"
   ]
  },
  {
   "cell_type": "markdown",
   "id": "e9b01094",
   "metadata": {},
   "source": [
    "##########PRACTICAL QUESTIONS#########"
   ]
  },
  {
   "cell_type": "markdown",
   "id": "7b35e14b",
   "metadata": {},
   "source": [
    "Question = 1 >>> Write a Python function that takes a list of numbers as input and returns the sum of all even numbers in\n",
    "the list ?"
   ]
  },
  {
   "cell_type": "code",
   "execution_count": 18,
   "id": "3e1754d7",
   "metadata": {},
   "outputs": [
    {
     "name": "stdout",
     "output_type": "stream",
     "text": [
      "12\n"
     ]
    }
   ],
   "source": [
    "def sum_even_numbers(numbers):\n",
    "    \"\"\"Returns the sum of all even numbers in the given list.\"\"\"\n",
    "    return sum(num for num in numbers if num % 2 == 0)\n",
    "\n",
    "# Example usage:\n",
    "example_list = [1, 2, 3, 4, 5, 6]\n",
    "print(sum_even_numbers(example_list))  # Output: 12\n"
   ]
  },
  {
   "cell_type": "markdown",
   "id": "a38a2c52",
   "metadata": {},
   "source": [
    "Question = 2 >>> unction that accepts a string and returns the reverse of that string ?"
   ]
  },
  {
   "cell_type": "code",
   "execution_count": 19,
   "id": "b2afb200",
   "metadata": {},
   "outputs": [
    {
     "name": "stdout",
     "output_type": "stream",
     "text": [
      "olleh\n"
     ]
    }
   ],
   "source": [
    "def reverse_string(s):\n",
    "    \"\"\"Returns the reverse of the input string.\"\"\"\n",
    "    return s[::-1]\n",
    "\n",
    "# Example usage:\n",
    "input_string = \"hello\"\n",
    "print(reverse_string(input_string))  # Output: \"olleh\"\n"
   ]
  },
  {
   "cell_type": "markdown",
   "id": "efd02beb",
   "metadata": {},
   "source": [
    "Question = 3 >>>  Implement a Python function that takes a list of integers and returns a new list containing the squares of\n",
    "each number ?"
   ]
  },
  {
   "cell_type": "code",
   "execution_count": 21,
   "id": "b2f30798",
   "metadata": {},
   "outputs": [
    {
     "name": "stdout",
     "output_type": "stream",
     "text": [
      "[1, 4, 9, 16, 25]\n"
     ]
    }
   ],
   "source": [
    "def square_numbers(numbers):\n",
    "    \"\"\"Returns a new list with the squares of each number in the input list.\"\"\"\n",
    "    return [num ** 2 for num in numbers]\n",
    "\n",
    "# Example usage:\n",
    "example_list = [1, 2, 3, 4, 5]\n",
    "print(square_numbers(example_list))\n"
   ]
  },
  {
   "cell_type": "markdown",
   "id": "487e5c9b",
   "metadata": {},
   "source": [
    "Question = 4 >>> Write a Python function that checks if a given number is prime or not from 1 to 200 ?"
   ]
  },
  {
   "cell_type": "code",
   "execution_count": 22,
   "id": "e73c4862",
   "metadata": {},
   "outputs": [
    {
     "name": "stdout",
     "output_type": "stream",
     "text": [
      "True\n",
      "True\n",
      "False\n"
     ]
    }
   ],
   "source": [
    "def is_prime(n):\n",
    "    \"\"\"Returns True if n is a prime number between 1 and 200, else False.\"\"\"\n",
    "    if n < 2 or n > 200:\n",
    "        return False\n",
    "    for i in range(2, int(n ** 0.5) + 1):\n",
    "        if n % i == 0:\n",
    "            return False\n",
    "    return True\n",
    "\n",
    "# Example usage:\n",
    "print(is_prime(2))    # True\n",
    "print(is_prime(199))  # True\n",
    "print(is_prime(100))  # False\n"
   ]
  },
  {
   "cell_type": "markdown",
   "id": "cb8ea11d",
   "metadata": {},
   "source": [
    "Question = 5 >>> Create an iterator class in Python that generates the Fibonacci sequence up to a specified number of\n",
    "terms ?"
   ]
  },
  {
   "cell_type": "code",
   "execution_count": 4,
   "id": "704449b2",
   "metadata": {},
   "outputs": [],
   "source": [
    "def fib(n):\n",
    "    a = 0 \n",
    "    b = 1\n",
    "    for i in range(n): #if n=5, 0, 1, 2, 3, 4\n",
    "        yield a\n",
    "        a, b = b, a+b"
   ]
  },
  {
   "cell_type": "code",
   "execution_count": 5,
   "id": "e04715f0",
   "metadata": {},
   "outputs": [],
   "source": [
    "f = fib(10)"
   ]
  },
  {
   "cell_type": "code",
   "execution_count": 6,
   "id": "b78ff2c3",
   "metadata": {},
   "outputs": [
    {
     "data": {
      "text/plain": [
       "<generator object fib at 0x000001122FDD4F20>"
      ]
     },
     "execution_count": 6,
     "metadata": {},
     "output_type": "execute_result"
    }
   ],
   "source": [
    "f"
   ]
  },
  {
   "cell_type": "code",
   "execution_count": 7,
   "id": "1a618bdf",
   "metadata": {},
   "outputs": [
    {
     "data": {
      "text/plain": [
       "0"
      ]
     },
     "execution_count": 7,
     "metadata": {},
     "output_type": "execute_result"
    }
   ],
   "source": [
    "next(f)"
   ]
  },
  {
   "cell_type": "code",
   "execution_count": 8,
   "id": "fcf28f80",
   "metadata": {},
   "outputs": [
    {
     "data": {
      "text/plain": [
       "1"
      ]
     },
     "execution_count": 8,
     "metadata": {},
     "output_type": "execute_result"
    }
   ],
   "source": [
    "next(f)"
   ]
  },
  {
   "cell_type": "code",
   "execution_count": 9,
   "id": "1916ec55",
   "metadata": {},
   "outputs": [
    {
     "data": {
      "text/plain": [
       "1"
      ]
     },
     "execution_count": 9,
     "metadata": {},
     "output_type": "execute_result"
    }
   ],
   "source": [
    "next(f)"
   ]
  },
  {
   "cell_type": "code",
   "execution_count": 10,
   "id": "0c27f480",
   "metadata": {},
   "outputs": [
    {
     "data": {
      "text/plain": [
       "2"
      ]
     },
     "execution_count": 10,
     "metadata": {},
     "output_type": "execute_result"
    }
   ],
   "source": [
    "next(f)"
   ]
  },
  {
   "cell_type": "code",
   "execution_count": 11,
   "id": "29afcf95",
   "metadata": {},
   "outputs": [
    {
     "data": {
      "text/plain": [
       "3"
      ]
     },
     "execution_count": 11,
     "metadata": {},
     "output_type": "execute_result"
    }
   ],
   "source": [
    "next(f)"
   ]
  },
  {
   "cell_type": "code",
   "execution_count": 12,
   "id": "c382abe6",
   "metadata": {},
   "outputs": [
    {
     "data": {
      "text/plain": [
       "5"
      ]
     },
     "execution_count": 12,
     "metadata": {},
     "output_type": "execute_result"
    }
   ],
   "source": [
    "next(f)"
   ]
  },
  {
   "cell_type": "code",
   "execution_count": 13,
   "id": "67e762f7",
   "metadata": {},
   "outputs": [
    {
     "data": {
      "text/plain": [
       "8"
      ]
     },
     "execution_count": 13,
     "metadata": {},
     "output_type": "execute_result"
    }
   ],
   "source": [
    "next(f)"
   ]
  },
  {
   "cell_type": "code",
   "execution_count": 14,
   "id": "c3b0011f",
   "metadata": {},
   "outputs": [
    {
     "data": {
      "text/plain": [
       "13"
      ]
     },
     "execution_count": 14,
     "metadata": {},
     "output_type": "execute_result"
    }
   ],
   "source": [
    "next(f)"
   ]
  },
  {
   "cell_type": "code",
   "execution_count": 15,
   "id": "23c7dc34",
   "metadata": {},
   "outputs": [
    {
     "data": {
      "text/plain": [
       "21"
      ]
     },
     "execution_count": 15,
     "metadata": {},
     "output_type": "execute_result"
    }
   ],
   "source": [
    "next(f)"
   ]
  },
  {
   "cell_type": "code",
   "execution_count": 16,
   "id": "ad289598",
   "metadata": {},
   "outputs": [
    {
     "data": {
      "text/plain": [
       "34"
      ]
     },
     "execution_count": 16,
     "metadata": {},
     "output_type": "execute_result"
    }
   ],
   "source": [
    "next(f)"
   ]
  },
  {
   "cell_type": "code",
   "execution_count": 19,
   "id": "dc8a7ab1",
   "metadata": {},
   "outputs": [
    {
     "name": "stdout",
     "output_type": "stream",
     "text": [
      "0 1 1 2 3 5 8 13 21 34 "
     ]
    }
   ],
   "source": [
    "class Fibonacci:\n",
    "    def __init__(self, max_terms):\n",
    "        self.max_terms = max_terms\n",
    "        self.a, self.b = 0, 1\n",
    "        self.count = 0\n",
    "\n",
    "    def __iter__(self):\n",
    "        return self\n",
    "\n",
    "    def __next__(self):\n",
    "        if self.count >= self.max_terms:\n",
    "            raise StopIteration\n",
    "        fib = self.a\n",
    "        self.a, self.b = self.b, self.a + self.b\n",
    "        self.count += 1\n",
    "        return fib\n",
    "\n",
    "# Example usage:\n",
    "for num in Fibonacci(10):\n",
    "    print(num, end=' ')\n",
    "# Output: 0 1 1 2 3 5 8 13 21 34\n"
   ]
  },
  {
   "cell_type": "markdown",
   "id": "1b0b2c77",
   "metadata": {},
   "source": [
    "Question = 6 >>> Write a generator function in Python that yields the powers of 2 up to a given exponent?"
   ]
  },
  {
   "cell_type": "code",
   "execution_count": 20,
   "id": "0387ffe9",
   "metadata": {},
   "outputs": [
    {
     "name": "stdout",
     "output_type": "stream",
     "text": [
      "1 2 4 8 16 32 "
     ]
    }
   ],
   "source": [
    "def powers_of_two(max_exponent):\n",
    "    \"\"\"Yields powers of 2 from 2^0 up to 2^max_exponent.\"\"\"\n",
    "    for exp in range(max_exponent + 1):\n",
    "        yield 2 ** exp\n",
    "\n",
    "\n",
    "for power in powers_of_two(5):\n",
    "    print(power, end=' ')\n"
   ]
  },
  {
   "cell_type": "markdown",
   "id": "3b30e1e7",
   "metadata": {},
   "source": [
    "Question = 7 >>>  Implement a generator function that reads a file line by line and yields each line as a string ?"
   ]
  },
  {
   "cell_type": "code",
   "execution_count": null,
   "id": "dd1e5173",
   "metadata": {},
   "outputs": [
    {
     "name": "stdout",
     "output_type": "stream",
     "text": [
      "This is the first line.This is the second line.This is the third line."
     ]
    }
   ],
   "source": [
    "# Create a dummy text file for testing\n",
    "with open(\"example.txt\", \"w\") as f:\n",
    "    f.write(\"This is the first line.\\n\")\n",
    "    f.write(\"This is the second line.\\n\")\n",
    "    f.write(\"This is the third line.\\n\")\n",
    "\n",
    "# Use the generator to read and print the lines\n",
    "for line in read_file_lines(\"example.txt\"):\n",
    "    print(line, end=\"\")"
   ]
  },
  {
   "cell_type": "code",
   "execution_count": 41,
   "id": "20b74f96",
   "metadata": {},
   "outputs": [],
   "source": [
    "def sq_num(n):\n",
    "    for i in range(n):\n",
    "        yield i**2"
   ]
  },
  {
   "cell_type": "code",
   "execution_count": 42,
   "id": "2a5fe11b",
   "metadata": {},
   "outputs": [
    {
     "data": {
      "text/plain": [
       "<generator object sq_num at 0x00000112305D2740>"
      ]
     },
     "execution_count": 42,
     "metadata": {},
     "output_type": "execute_result"
    }
   ],
   "source": [
    "a = sq_num(10)\n",
    "a"
   ]
  },
  {
   "cell_type": "code",
   "execution_count": 43,
   "id": "1d7132f2",
   "metadata": {},
   "outputs": [
    {
     "data": {
      "text/plain": [
       "0"
      ]
     },
     "execution_count": 43,
     "metadata": {},
     "output_type": "execute_result"
    }
   ],
   "source": [
    "next(a)"
   ]
  },
  {
   "cell_type": "code",
   "execution_count": 44,
   "id": "911d1da8",
   "metadata": {},
   "outputs": [
    {
     "data": {
      "text/plain": [
       "1"
      ]
     },
     "execution_count": 44,
     "metadata": {},
     "output_type": "execute_result"
    }
   ],
   "source": [
    "next(a)\n"
   ]
  },
  {
   "cell_type": "code",
   "execution_count": 45,
   "id": "f1c1c447",
   "metadata": {},
   "outputs": [
    {
     "data": {
      "text/plain": [
       "4"
      ]
     },
     "execution_count": 45,
     "metadata": {},
     "output_type": "execute_result"
    }
   ],
   "source": [
    "next(a)\n"
   ]
  },
  {
   "cell_type": "code",
   "execution_count": 46,
   "id": "d8169ed9",
   "metadata": {},
   "outputs": [
    {
     "data": {
      "text/plain": [
       "9"
      ]
     },
     "execution_count": 46,
     "metadata": {},
     "output_type": "execute_result"
    }
   ],
   "source": [
    "next(a)\n"
   ]
  },
  {
   "cell_type": "code",
   "execution_count": 47,
   "id": "bbcf2758",
   "metadata": {},
   "outputs": [
    {
     "data": {
      "text/plain": [
       "16"
      ]
     },
     "execution_count": 47,
     "metadata": {},
     "output_type": "execute_result"
    }
   ],
   "source": [
    "next(a)\n"
   ]
  },
  {
   "cell_type": "code",
   "execution_count": 48,
   "id": "211d8b15",
   "metadata": {},
   "outputs": [
    {
     "data": {
      "text/plain": [
       "25"
      ]
     },
     "execution_count": 48,
     "metadata": {},
     "output_type": "execute_result"
    }
   ],
   "source": [
    "next(a)\n"
   ]
  },
  {
   "cell_type": "code",
   "execution_count": 49,
   "id": "544b3b05",
   "metadata": {},
   "outputs": [
    {
     "data": {
      "text/plain": [
       "36"
      ]
     },
     "execution_count": 49,
     "metadata": {},
     "output_type": "execute_result"
    }
   ],
   "source": [
    "next(a)\n"
   ]
  },
  {
   "cell_type": "code",
   "execution_count": 50,
   "id": "1c416eaa",
   "metadata": {},
   "outputs": [
    {
     "data": {
      "text/plain": [
       "49"
      ]
     },
     "execution_count": 50,
     "metadata": {},
     "output_type": "execute_result"
    }
   ],
   "source": [
    "next(a)\n"
   ]
  },
  {
   "cell_type": "code",
   "execution_count": 51,
   "id": "12a8dc4c",
   "metadata": {},
   "outputs": [
    {
     "data": {
      "text/plain": [
       "64"
      ]
     },
     "execution_count": 51,
     "metadata": {},
     "output_type": "execute_result"
    }
   ],
   "source": [
    "next(a)\n"
   ]
  },
  {
   "cell_type": "code",
   "execution_count": 52,
   "id": "4163c106",
   "metadata": {},
   "outputs": [
    {
     "data": {
      "text/plain": [
       "81"
      ]
     },
     "execution_count": 52,
     "metadata": {},
     "output_type": "execute_result"
    }
   ],
   "source": [
    "next(a)\n"
   ]
  },
  {
   "cell_type": "markdown",
   "id": "fe5ba51c",
   "metadata": {},
   "source": [
    "Question = 8 >>> Use a lambda function in Python to sort a list of tuples based on the second element of each tuple ?"
   ]
  },
  {
   "cell_type": "code",
   "execution_count": 58,
   "id": "0905123c",
   "metadata": {},
   "outputs": [
    {
     "name": "stdout",
     "output_type": "stream",
     "text": [
      "[(5, 0), (4, 1), (2, 2), (1, 3)]\n"
     ]
    }
   ],
   "source": [
    "# Sample list of tuples\n",
    "tuple_list = [(1, 3), (4, 1), (2, 2), (5, 0)]\n",
    "\n",
    "# Sort using lambda function (by second element)\n",
    "sorted_list = sorted(tuple_list, key=lambda x: x[1])\n",
    "\n",
    "print(sorted_list)   #increasing order\n"
   ]
  },
  {
   "cell_type": "markdown",
   "id": "ee38cead",
   "metadata": {},
   "source": [
    "Question = 9 >>> Write a Python program that uses `map()` to convert a list of temperatures from Celsius to Fahrenheit ?"
   ]
  },
  {
   "cell_type": "code",
   "execution_count": 59,
   "id": "b54d2b71",
   "metadata": {},
   "outputs": [
    {
     "name": "stdout",
     "output_type": "stream",
     "text": [
      "[32.0, 68.0, 98.6, 212.0]\n"
     ]
    }
   ],
   "source": [
    "# List of temperatures in Celsius\n",
    "celsius_temps = [0, 20, 37, 100]\n",
    "\n",
    "# Convert to Fahrenheit using map and a lambda function\n",
    "fahrenheit_temps = list(map(lambda c: (c * 9/5) + 32, celsius_temps))\n",
    "\n",
    "# Print the result\n",
    "print(fahrenheit_temps)\n"
   ]
  },
  {
   "cell_type": "markdown",
   "id": "1be00f1e",
   "metadata": {},
   "source": [
    "Question = 10 >>> Create a Python program that uses `filter()` to remove all the vowels from a given string ?"
   ]
  },
  {
   "cell_type": "code",
   "execution_count": 60,
   "id": "18b7f104",
   "metadata": {},
   "outputs": [
    {
     "name": "stdout",
     "output_type": "stream",
     "text": [
      "Hll, Wrld!\n"
     ]
    }
   ],
   "source": [
    "def remove_vowels(input_str):\n",
    "    vowels = 'aeiouAEIOU'\n",
    "    return ''.join(filter(lambda char: char not in vowels, input_str))\n",
    "\n",
    "# Example usage:\n",
    "text = \"Hello, World!\"\n",
    "no_vowels = remove_vowels(text)\n",
    "print(no_vowels)\n"
   ]
  },
  {
   "cell_type": "markdown",
   "id": "e8caafd7",
   "metadata": {},
   "source": [
    "Question = 11 >>> Write a Python program, which returns a list with 2-tuples. Each tuple consists of the order number and the\n",
    "product of the price per item and the quantity. The product should be increased by 10,- € if the value of the\n",
    "order is smaller than 100,00 €.\n",
    "\n",
    "Write a Python program using lambda and map.\n"
   ]
  },
  {
   "cell_type": "code",
   "execution_count": 63,
   "id": "e4f116bc",
   "metadata": {},
   "outputs": [
    {
     "name": "stdout",
     "output_type": "stream",
     "text": [
      "[(1, 50.0), (2, 155.0), (3, 35.0), (4, 60.0)]\n"
     ]
    }
   ],
   "source": [
    " # Sample list of orders: (order number, price per item, quantity)\n",
    "orders = [\n",
    "    (1, 20.0, 2),\n",
    "    (2, 15.5, 10),\n",
    "    (3, 5.0, 5),\n",
    "    (4, 50.0, 1)\n",
    "]\n",
    "\n",
    "# Use map and lambda to calculate total per order\n",
    "result = list(map(lambda order: (\n",
    "    order[0],\n",
    "    order[1] * order[2] + (10 if order[1] * order[2] < 100 else 0)\n",
    "), orders))\n",
    "\n",
    "# Output the result\n",
    "print(result)"
   ]
  },
  {
   "cell_type": "markdown",
   "id": "9860cacc",
   "metadata": {},
   "source": [
    "Order below 100$,increased by 10$"
   ]
  },
  {
   "cell_type": "code",
   "execution_count": null,
   "id": "ac6dd25f",
   "metadata": {},
   "outputs": [],
   "source": []
  }
 ],
 "metadata": {
  "kernelspec": {
   "display_name": "Python 3",
   "language": "python",
   "name": "python3"
  },
  "language_info": {
   "codemirror_mode": {
    "name": "ipython",
    "version": 3
   },
   "file_extension": ".py",
   "mimetype": "text/x-python",
   "name": "python",
   "nbconvert_exporter": "python",
   "pygments_lexer": "ipython3",
   "version": "3.13.3"
  }
 },
 "nbformat": 4,
 "nbformat_minor": 5
}
